{
 "cells": [
  {
   "cell_type": "markdown",
   "metadata": {},
   "source": [
    "## 1. Librerias y dataset"
   ]
  },
  {
   "cell_type": "code",
   "execution_count": 1,
   "metadata": {},
   "outputs": [],
   "source": [
    "#Importo las librerias\n",
    "\n",
    "import numpy as np\n",
    "import pandas as pd\n",
    "import matplotlib.pyplot as plt"
   ]
  },
  {
   "cell_type": "code",
   "execution_count": 2,
   "metadata": {},
   "outputs": [],
   "source": [
    "#Importo el dataset que voy a utilizar para clasificacion\n",
    "\n",
    "from sklearn.datasets import load_iris"
   ]
  },
  {
   "cell_type": "code",
   "execution_count": 3,
   "metadata": {},
   "outputs": [],
   "source": [
    "#Instancio el dataset en una variable\n",
    "\n",
    "data = load_iris()"
   ]
  },
  {
   "cell_type": "code",
   "execution_count": 4,
   "metadata": {},
   "outputs": [
    {
     "data": {
      "text/plain": [
       "array([[5.1, 3.5, 1.4, 0.2],\n",
       "       [4.9, 3. , 1.4, 0.2],\n",
       "       [4.7, 3.2, 1.3, 0.2],\n",
       "       [4.6, 3.1, 1.5, 0.2],\n",
       "       [5. , 3.6, 1.4, 0.2],\n",
       "       [5.4, 3.9, 1.7, 0.4],\n",
       "       [4.6, 3.4, 1.4, 0.3],\n",
       "       [5. , 3.4, 1.5, 0.2],\n",
       "       [4.4, 2.9, 1.4, 0.2],\n",
       "       [4.9, 3.1, 1.5, 0.1],\n",
       "       [5.4, 3.7, 1.5, 0.2],\n",
       "       [4.8, 3.4, 1.6, 0.2],\n",
       "       [4.8, 3. , 1.4, 0.1],\n",
       "       [4.3, 3. , 1.1, 0.1],\n",
       "       [5.8, 4. , 1.2, 0.2],\n",
       "       [5.7, 4.4, 1.5, 0.4],\n",
       "       [5.4, 3.9, 1.3, 0.4],\n",
       "       [5.1, 3.5, 1.4, 0.3],\n",
       "       [5.7, 3.8, 1.7, 0.3],\n",
       "       [5.1, 3.8, 1.5, 0.3],\n",
       "       [5.4, 3.4, 1.7, 0.2],\n",
       "       [5.1, 3.7, 1.5, 0.4],\n",
       "       [4.6, 3.6, 1. , 0.2],\n",
       "       [5.1, 3.3, 1.7, 0.5],\n",
       "       [4.8, 3.4, 1.9, 0.2],\n",
       "       [5. , 3. , 1.6, 0.2],\n",
       "       [5. , 3.4, 1.6, 0.4],\n",
       "       [5.2, 3.5, 1.5, 0.2],\n",
       "       [5.2, 3.4, 1.4, 0.2],\n",
       "       [4.7, 3.2, 1.6, 0.2],\n",
       "       [4.8, 3.1, 1.6, 0.2],\n",
       "       [5.4, 3.4, 1.5, 0.4],\n",
       "       [5.2, 4.1, 1.5, 0.1],\n",
       "       [5.5, 4.2, 1.4, 0.2],\n",
       "       [4.9, 3.1, 1.5, 0.2],\n",
       "       [5. , 3.2, 1.2, 0.2],\n",
       "       [5.5, 3.5, 1.3, 0.2],\n",
       "       [4.9, 3.6, 1.4, 0.1],\n",
       "       [4.4, 3. , 1.3, 0.2],\n",
       "       [5.1, 3.4, 1.5, 0.2],\n",
       "       [5. , 3.5, 1.3, 0.3],\n",
       "       [4.5, 2.3, 1.3, 0.3],\n",
       "       [4.4, 3.2, 1.3, 0.2],\n",
       "       [5. , 3.5, 1.6, 0.6],\n",
       "       [5.1, 3.8, 1.9, 0.4],\n",
       "       [4.8, 3. , 1.4, 0.3],\n",
       "       [5.1, 3.8, 1.6, 0.2],\n",
       "       [4.6, 3.2, 1.4, 0.2],\n",
       "       [5.3, 3.7, 1.5, 0.2],\n",
       "       [5. , 3.3, 1.4, 0.2],\n",
       "       [7. , 3.2, 4.7, 1.4],\n",
       "       [6.4, 3.2, 4.5, 1.5],\n",
       "       [6.9, 3.1, 4.9, 1.5],\n",
       "       [5.5, 2.3, 4. , 1.3],\n",
       "       [6.5, 2.8, 4.6, 1.5],\n",
       "       [5.7, 2.8, 4.5, 1.3],\n",
       "       [6.3, 3.3, 4.7, 1.6],\n",
       "       [4.9, 2.4, 3.3, 1. ],\n",
       "       [6.6, 2.9, 4.6, 1.3],\n",
       "       [5.2, 2.7, 3.9, 1.4],\n",
       "       [5. , 2. , 3.5, 1. ],\n",
       "       [5.9, 3. , 4.2, 1.5],\n",
       "       [6. , 2.2, 4. , 1. ],\n",
       "       [6.1, 2.9, 4.7, 1.4],\n",
       "       [5.6, 2.9, 3.6, 1.3],\n",
       "       [6.7, 3.1, 4.4, 1.4],\n",
       "       [5.6, 3. , 4.5, 1.5],\n",
       "       [5.8, 2.7, 4.1, 1. ],\n",
       "       [6.2, 2.2, 4.5, 1.5],\n",
       "       [5.6, 2.5, 3.9, 1.1],\n",
       "       [5.9, 3.2, 4.8, 1.8],\n",
       "       [6.1, 2.8, 4. , 1.3],\n",
       "       [6.3, 2.5, 4.9, 1.5],\n",
       "       [6.1, 2.8, 4.7, 1.2],\n",
       "       [6.4, 2.9, 4.3, 1.3],\n",
       "       [6.6, 3. , 4.4, 1.4],\n",
       "       [6.8, 2.8, 4.8, 1.4],\n",
       "       [6.7, 3. , 5. , 1.7],\n",
       "       [6. , 2.9, 4.5, 1.5],\n",
       "       [5.7, 2.6, 3.5, 1. ],\n",
       "       [5.5, 2.4, 3.8, 1.1],\n",
       "       [5.5, 2.4, 3.7, 1. ],\n",
       "       [5.8, 2.7, 3.9, 1.2],\n",
       "       [6. , 2.7, 5.1, 1.6],\n",
       "       [5.4, 3. , 4.5, 1.5],\n",
       "       [6. , 3.4, 4.5, 1.6],\n",
       "       [6.7, 3.1, 4.7, 1.5],\n",
       "       [6.3, 2.3, 4.4, 1.3],\n",
       "       [5.6, 3. , 4.1, 1.3],\n",
       "       [5.5, 2.5, 4. , 1.3],\n",
       "       [5.5, 2.6, 4.4, 1.2],\n",
       "       [6.1, 3. , 4.6, 1.4],\n",
       "       [5.8, 2.6, 4. , 1.2],\n",
       "       [5. , 2.3, 3.3, 1. ],\n",
       "       [5.6, 2.7, 4.2, 1.3],\n",
       "       [5.7, 3. , 4.2, 1.2],\n",
       "       [5.7, 2.9, 4.2, 1.3],\n",
       "       [6.2, 2.9, 4.3, 1.3],\n",
       "       [5.1, 2.5, 3. , 1.1],\n",
       "       [5.7, 2.8, 4.1, 1.3],\n",
       "       [6.3, 3.3, 6. , 2.5],\n",
       "       [5.8, 2.7, 5.1, 1.9],\n",
       "       [7.1, 3. , 5.9, 2.1],\n",
       "       [6.3, 2.9, 5.6, 1.8],\n",
       "       [6.5, 3. , 5.8, 2.2],\n",
       "       [7.6, 3. , 6.6, 2.1],\n",
       "       [4.9, 2.5, 4.5, 1.7],\n",
       "       [7.3, 2.9, 6.3, 1.8],\n",
       "       [6.7, 2.5, 5.8, 1.8],\n",
       "       [7.2, 3.6, 6.1, 2.5],\n",
       "       [6.5, 3.2, 5.1, 2. ],\n",
       "       [6.4, 2.7, 5.3, 1.9],\n",
       "       [6.8, 3. , 5.5, 2.1],\n",
       "       [5.7, 2.5, 5. , 2. ],\n",
       "       [5.8, 2.8, 5.1, 2.4],\n",
       "       [6.4, 3.2, 5.3, 2.3],\n",
       "       [6.5, 3. , 5.5, 1.8],\n",
       "       [7.7, 3.8, 6.7, 2.2],\n",
       "       [7.7, 2.6, 6.9, 2.3],\n",
       "       [6. , 2.2, 5. , 1.5],\n",
       "       [6.9, 3.2, 5.7, 2.3],\n",
       "       [5.6, 2.8, 4.9, 2. ],\n",
       "       [7.7, 2.8, 6.7, 2. ],\n",
       "       [6.3, 2.7, 4.9, 1.8],\n",
       "       [6.7, 3.3, 5.7, 2.1],\n",
       "       [7.2, 3.2, 6. , 1.8],\n",
       "       [6.2, 2.8, 4.8, 1.8],\n",
       "       [6.1, 3. , 4.9, 1.8],\n",
       "       [6.4, 2.8, 5.6, 2.1],\n",
       "       [7.2, 3. , 5.8, 1.6],\n",
       "       [7.4, 2.8, 6.1, 1.9],\n",
       "       [7.9, 3.8, 6.4, 2. ],\n",
       "       [6.4, 2.8, 5.6, 2.2],\n",
       "       [6.3, 2.8, 5.1, 1.5],\n",
       "       [6.1, 2.6, 5.6, 1.4],\n",
       "       [7.7, 3. , 6.1, 2.3],\n",
       "       [6.3, 3.4, 5.6, 2.4],\n",
       "       [6.4, 3.1, 5.5, 1.8],\n",
       "       [6. , 3. , 4.8, 1.8],\n",
       "       [6.9, 3.1, 5.4, 2.1],\n",
       "       [6.7, 3.1, 5.6, 2.4],\n",
       "       [6.9, 3.1, 5.1, 2.3],\n",
       "       [5.8, 2.7, 5.1, 1.9],\n",
       "       [6.8, 3.2, 5.9, 2.3],\n",
       "       [6.7, 3.3, 5.7, 2.5],\n",
       "       [6.7, 3. , 5.2, 2.3],\n",
       "       [6.3, 2.5, 5. , 1.9],\n",
       "       [6.5, 3. , 5.2, 2. ],\n",
       "       [6.2, 3.4, 5.4, 2.3],\n",
       "       [5.9, 3. , 5.1, 1.8]])"
      ]
     },
     "execution_count": 4,
     "metadata": {},
     "output_type": "execute_result"
    }
   ],
   "source": [
    "#Observo los valores de los features\n",
    "\n",
    "data.data"
   ]
  },
  {
   "cell_type": "code",
   "execution_count": 5,
   "metadata": {},
   "outputs": [
    {
     "data": {
      "text/plain": [
       "['sepal length (cm)',\n",
       " 'sepal width (cm)',\n",
       " 'petal length (cm)',\n",
       " 'petal width (cm)']"
      ]
     },
     "execution_count": 5,
     "metadata": {},
     "output_type": "execute_result"
    }
   ],
   "source": [
    "#Observo los nombres de los features\n",
    "\n",
    "data.feature_names"
   ]
  },
  {
   "cell_type": "code",
   "execution_count": 6,
   "metadata": {},
   "outputs": [
    {
     "data": {
      "text/plain": [
       "array([0, 0, 0, 0, 0, 0, 0, 0, 0, 0, 0, 0, 0, 0, 0, 0, 0, 0, 0, 0, 0, 0,\n",
       "       0, 0, 0, 0, 0, 0, 0, 0, 0, 0, 0, 0, 0, 0, 0, 0, 0, 0, 0, 0, 0, 0,\n",
       "       0, 0, 0, 0, 0, 0, 1, 1, 1, 1, 1, 1, 1, 1, 1, 1, 1, 1, 1, 1, 1, 1,\n",
       "       1, 1, 1, 1, 1, 1, 1, 1, 1, 1, 1, 1, 1, 1, 1, 1, 1, 1, 1, 1, 1, 1,\n",
       "       1, 1, 1, 1, 1, 1, 1, 1, 1, 1, 1, 1, 2, 2, 2, 2, 2, 2, 2, 2, 2, 2,\n",
       "       2, 2, 2, 2, 2, 2, 2, 2, 2, 2, 2, 2, 2, 2, 2, 2, 2, 2, 2, 2, 2, 2,\n",
       "       2, 2, 2, 2, 2, 2, 2, 2, 2, 2, 2, 2, 2, 2, 2, 2, 2, 2])"
      ]
     },
     "execution_count": 6,
     "metadata": {},
     "output_type": "execute_result"
    }
   ],
   "source": [
    "#Observo los valores del target\n",
    "\n",
    "data.target"
   ]
  },
  {
   "cell_type": "markdown",
   "metadata": {},
   "source": [
    "## 2. Clasificacion por medio de  k-nearest neighbors"
   ]
  },
  {
   "cell_type": "code",
   "execution_count": 7,
   "metadata": {},
   "outputs": [],
   "source": [
    "#Importo la funcionalidad para dividir el dataset\n",
    "\n",
    "from sklearn.model_selection import train_test_split"
   ]
  },
  {
   "cell_type": "code",
   "execution_count": 8,
   "metadata": {},
   "outputs": [],
   "source": [
    "X = data.data #Features\n",
    "y = data.target #Target"
   ]
  },
  {
   "cell_type": "code",
   "execution_count": 9,
   "metadata": {},
   "outputs": [],
   "source": [
    "#Divido el dataset\n",
    "\n",
    "X_train, X_test, y_train, y_test = train_test_split(X, y)"
   ]
  },
  {
   "cell_type": "code",
   "execution_count": 10,
   "metadata": {},
   "outputs": [
    {
     "data": {
      "text/plain": [
       "array([[6.7, 3. , 5.2, 2.3],\n",
       "       [5.3, 3.7, 1.5, 0.2],\n",
       "       [4.4, 3. , 1.3, 0.2],\n",
       "       [5.1, 3.3, 1.7, 0.5],\n",
       "       [6. , 2.7, 5.1, 1.6],\n",
       "       [5. , 3. , 1.6, 0.2],\n",
       "       [4.6, 3.6, 1. , 0.2],\n",
       "       [7.3, 2.9, 6.3, 1.8],\n",
       "       [6.2, 2.9, 4.3, 1.3],\n",
       "       [5. , 3.4, 1.5, 0.2],\n",
       "       [6.4, 2.9, 4.3, 1.3],\n",
       "       [4.7, 3.2, 1.3, 0.2],\n",
       "       [6.2, 3.4, 5.4, 2.3],\n",
       "       [6.3, 3.3, 6. , 2.5],\n",
       "       [6.9, 3.1, 4.9, 1.5],\n",
       "       [5.1, 3.7, 1.5, 0.4],\n",
       "       [6.8, 3. , 5.5, 2.1],\n",
       "       [5.5, 2.5, 4. , 1.3],\n",
       "       [6.8, 2.8, 4.8, 1.4],\n",
       "       [5.7, 3. , 4.2, 1.2],\n",
       "       [6.5, 3.2, 5.1, 2. ],\n",
       "       [5.5, 2.4, 3.7, 1. ],\n",
       "       [5.1, 3.8, 1.6, 0.2],\n",
       "       [4.9, 3. , 1.4, 0.2],\n",
       "       [5.2, 3.5, 1.5, 0.2],\n",
       "       [6.7, 3.3, 5.7, 2.1],\n",
       "       [5.7, 2.8, 4.5, 1.3],\n",
       "       [6.7, 2.5, 5.8, 1.8],\n",
       "       [5.2, 4.1, 1.5, 0.1],\n",
       "       [4.8, 3. , 1.4, 0.1],\n",
       "       [6.3, 2.5, 5. , 1.9],\n",
       "       [7.9, 3.8, 6.4, 2. ],\n",
       "       [6.9, 3.1, 5.1, 2.3],\n",
       "       [4.8, 3.4, 1.6, 0.2],\n",
       "       [5.5, 2.6, 4.4, 1.2],\n",
       "       [6.1, 2.8, 4. , 1.3],\n",
       "       [5. , 3.2, 1.2, 0.2],\n",
       "       [7.2, 3.6, 6.1, 2.5],\n",
       "       [4.4, 3.2, 1.3, 0.2],\n",
       "       [6. , 3. , 4.8, 1.8],\n",
       "       [5.5, 2.3, 4. , 1.3],\n",
       "       [6.5, 3. , 5.5, 1.8],\n",
       "       [4.8, 3. , 1.4, 0.3],\n",
       "       [7.7, 3. , 6.1, 2.3],\n",
       "       [6.1, 2.6, 5.6, 1.4],\n",
       "       [5.7, 2.6, 3.5, 1. ],\n",
       "       [5.8, 2.7, 5.1, 1.9],\n",
       "       [4.4, 2.9, 1.4, 0.2],\n",
       "       [4.6, 3.1, 1.5, 0.2],\n",
       "       [4.3, 3. , 1.1, 0.1],\n",
       "       [6.5, 2.8, 4.6, 1.5],\n",
       "       [5.2, 3.4, 1.4, 0.2],\n",
       "       [7.6, 3. , 6.6, 2.1],\n",
       "       [5.1, 3.4, 1.5, 0.2],\n",
       "       [5. , 3.4, 1.6, 0.4],\n",
       "       [5.4, 3. , 4.5, 1.5],\n",
       "       [5.5, 4.2, 1.4, 0.2],\n",
       "       [6.1, 2.8, 4.7, 1.2],\n",
       "       [5.8, 2.7, 3.9, 1.2],\n",
       "       [5.8, 2.7, 4.1, 1. ],\n",
       "       [5.7, 4.4, 1.5, 0.4],\n",
       "       [6.4, 2.8, 5.6, 2.2],\n",
       "       [5.8, 2.6, 4. , 1.2],\n",
       "       [5.1, 3.5, 1.4, 0.2],\n",
       "       [4.8, 3.1, 1.6, 0.2],\n",
       "       [6.8, 3.2, 5.9, 2.3],\n",
       "       [6.6, 2.9, 4.6, 1.3],\n",
       "       [6.3, 2.9, 5.6, 1.8],\n",
       "       [5.9, 3. , 4.2, 1.5],\n",
       "       [7.4, 2.8, 6.1, 1.9],\n",
       "       [4.8, 3.4, 1.9, 0.2],\n",
       "       [6.2, 2.2, 4.5, 1.5],\n",
       "       [5.9, 3. , 5.1, 1.8],\n",
       "       [6.3, 3.3, 4.7, 1.6],\n",
       "       [6.7, 3.3, 5.7, 2.5],\n",
       "       [6. , 2.2, 4. , 1. ],\n",
       "       [5.9, 3.2, 4.8, 1.8],\n",
       "       [6.4, 3.2, 4.5, 1.5],\n",
       "       [6.7, 3. , 5. , 1.7],\n",
       "       [4.6, 3.4, 1.4, 0.3],\n",
       "       [5.4, 3.7, 1.5, 0.2],\n",
       "       [6.9, 3.1, 5.4, 2.1],\n",
       "       [4.9, 3.1, 1.5, 0.1],\n",
       "       [5. , 3.6, 1.4, 0.2],\n",
       "       [4.5, 2.3, 1.3, 0.3],\n",
       "       [6.7, 3.1, 5.6, 2.4],\n",
       "       [6.1, 3. , 4.9, 1.8],\n",
       "       [5.6, 3. , 4.1, 1.3],\n",
       "       [5.6, 2.5, 3.9, 1.1],\n",
       "       [5.5, 3.5, 1.3, 0.2],\n",
       "       [7.1, 3. , 5.9, 2.1],\n",
       "       [6.4, 3.1, 5.5, 1.8],\n",
       "       [6. , 3.4, 4.5, 1.6],\n",
       "       [6.3, 2.7, 4.9, 1.8],\n",
       "       [4.6, 3.2, 1.4, 0.2],\n",
       "       [5.7, 2.8, 4.1, 1.3],\n",
       "       [7.2, 3.2, 6. , 1.8],\n",
       "       [5.8, 2.7, 5.1, 1.9],\n",
       "       [6.4, 3.2, 5.3, 2.3],\n",
       "       [5. , 3.5, 1.3, 0.3],\n",
       "       [6.3, 2.8, 5.1, 1.5],\n",
       "       [5.1, 2.5, 3. , 1.1],\n",
       "       [6.2, 2.8, 4.8, 1.8],\n",
       "       [5.8, 4. , 1.2, 0.2],\n",
       "       [6.7, 3.1, 4.7, 1.5],\n",
       "       [5. , 3.5, 1.6, 0.6],\n",
       "       [5.2, 2.7, 3.9, 1.4],\n",
       "       [5.4, 3.4, 1.7, 0.2],\n",
       "       [5.7, 3.8, 1.7, 0.3],\n",
       "       [5. , 3.3, 1.4, 0.2],\n",
       "       [7. , 3.2, 4.7, 1.4],\n",
       "       [6.3, 2.5, 4.9, 1.5]])"
      ]
     },
     "execution_count": 10,
     "metadata": {},
     "output_type": "execute_result"
    }
   ],
   "source": [
    "#Features de entrenamiento\n",
    "\n",
    "X_train"
   ]
  },
  {
   "cell_type": "code",
   "execution_count": 11,
   "metadata": {},
   "outputs": [
    {
     "data": {
      "text/plain": [
       "array([2, 0, 0, 0, 1, 0, 0, 2, 1, 0, 1, 0, 2, 2, 1, 0, 2, 1, 1, 1, 2, 1,\n",
       "       0, 0, 0, 2, 1, 2, 0, 0, 2, 2, 2, 0, 1, 1, 0, 2, 0, 2, 1, 2, 0, 2,\n",
       "       2, 1, 2, 0, 0, 0, 1, 0, 2, 0, 0, 1, 0, 1, 1, 1, 0, 2, 1, 0, 0, 2,\n",
       "       1, 2, 1, 2, 0, 1, 2, 1, 2, 1, 1, 1, 1, 0, 0, 2, 0, 0, 0, 2, 2, 1,\n",
       "       1, 0, 2, 2, 1, 2, 0, 1, 2, 2, 2, 0, 2, 1, 2, 0, 1, 0, 1, 0, 0, 0,\n",
       "       1, 1])"
      ]
     },
     "execution_count": 11,
     "metadata": {},
     "output_type": "execute_result"
    }
   ],
   "source": [
    "#Target de entrenamiento\n",
    "\n",
    "y_train"
   ]
  },
  {
   "cell_type": "code",
   "execution_count": 12,
   "metadata": {},
   "outputs": [
    {
     "data": {
      "text/plain": [
       "array([[7.7, 2.8, 6.7, 2. ],\n",
       "       [5.6, 2.7, 4.2, 1.3],\n",
       "       [4.9, 2.4, 3.3, 1. ],\n",
       "       [6.4, 2.7, 5.3, 1.9],\n",
       "       [4.9, 2.5, 4.5, 1.7],\n",
       "       [5.4, 3.9, 1.7, 0.4],\n",
       "       [5.4, 3.4, 1.5, 0.4],\n",
       "       [4.9, 3.6, 1.4, 0.1],\n",
       "       [6.9, 3.2, 5.7, 2.3],\n",
       "       [6.3, 3.4, 5.6, 2.4],\n",
       "       [5.8, 2.8, 5.1, 2.4],\n",
       "       [5.6, 2.8, 4.9, 2. ],\n",
       "       [5. , 2. , 3.5, 1. ],\n",
       "       [5.6, 2.9, 3.6, 1.3],\n",
       "       [6.5, 3. , 5.2, 2. ],\n",
       "       [6. , 2.9, 4.5, 1.5],\n",
       "       [4.9, 3.1, 1.5, 0.2],\n",
       "       [6. , 2.2, 5. , 1.5],\n",
       "       [5.5, 2.4, 3.8, 1.1],\n",
       "       [4.7, 3.2, 1.6, 0.2],\n",
       "       [5.1, 3.8, 1.5, 0.3],\n",
       "       [5.6, 3. , 4.5, 1.5],\n",
       "       [7.7, 2.6, 6.9, 2.3],\n",
       "       [5.1, 3.8, 1.9, 0.4],\n",
       "       [6.1, 2.9, 4.7, 1.4],\n",
       "       [6.5, 3. , 5.8, 2.2],\n",
       "       [5.1, 3.5, 1.4, 0.3],\n",
       "       [5.4, 3.9, 1.3, 0.4],\n",
       "       [5.7, 2.9, 4.2, 1.3],\n",
       "       [6.6, 3. , 4.4, 1.4],\n",
       "       [5. , 2.3, 3.3, 1. ],\n",
       "       [6.7, 3.1, 4.4, 1.4],\n",
       "       [6.3, 2.3, 4.4, 1.3],\n",
       "       [7.2, 3. , 5.8, 1.6],\n",
       "       [7.7, 3.8, 6.7, 2.2],\n",
       "       [6.4, 2.8, 5.6, 2.1],\n",
       "       [6.1, 3. , 4.6, 1.4],\n",
       "       [5.7, 2.5, 5. , 2. ]])"
      ]
     },
     "execution_count": 12,
     "metadata": {},
     "output_type": "execute_result"
    }
   ],
   "source": [
    "#Features de test\n",
    "\n",
    "X_test"
   ]
  },
  {
   "cell_type": "code",
   "execution_count": 13,
   "metadata": {},
   "outputs": [
    {
     "data": {
      "text/plain": [
       "array([2, 1, 1, 2, 2, 0, 0, 0, 2, 2, 2, 2, 1, 1, 2, 1, 0, 2, 1, 0, 0, 1,\n",
       "       2, 0, 1, 2, 0, 0, 1, 1, 1, 1, 1, 2, 2, 2, 1, 2])"
      ]
     },
     "execution_count": 13,
     "metadata": {},
     "output_type": "execute_result"
    }
   ],
   "source": [
    "#Target de test\n",
    "\n",
    "y_test"
   ]
  },
  {
   "cell_type": "code",
   "execution_count": 14,
   "metadata": {},
   "outputs": [],
   "source": [
    "#Importo el clasificador\n",
    "\n",
    "from sklearn.neighbors import KNeighborsClassifier"
   ]
  },
  {
   "cell_type": "code",
   "execution_count": 15,
   "metadata": {},
   "outputs": [],
   "source": [
    "#Instancio el clasificador. Como hiperparametro selecciono la cantidad de vecinos igual a 1\n",
    "\n",
    "knn = KNeighborsClassifier(n_neighbors=1)"
   ]
  },
  {
   "cell_type": "code",
   "execution_count": 16,
   "metadata": {},
   "outputs": [
    {
     "data": {
      "text/plain": [
       "KNeighborsClassifier(n_neighbors=1)"
      ]
     },
     "execution_count": 16,
     "metadata": {},
     "output_type": "execute_result"
    }
   ],
   "source": [
    "#Realizo el entrenamiento del clasificador\n",
    "\n",
    "knn.fit(X_train, y_train)"
   ]
  },
  {
   "cell_type": "code",
   "execution_count": 17,
   "metadata": {},
   "outputs": [
    {
     "name": "stdout",
     "output_type": "stream",
     "text": [
      "accuracy:  0.9473684210526315\n"
     ]
    }
   ],
   "source": [
    "#Con el clasificador ya entreanado puedo calcular el score para los datos de test\n",
    "\n",
    "print(\"accuracy: \", knn.score(X_test, y_test))"
   ]
  },
  {
   "cell_type": "code",
   "execution_count": 18,
   "metadata": {},
   "outputs": [
    {
     "data": {
      "text/plain": [
       "array([2, 1, 1, 2, 1, 0, 0, 0, 2, 2, 2, 2, 1, 1, 2, 1, 0, 1, 1, 0, 0, 1,\n",
       "       2, 0, 1, 2, 0, 0, 1, 1, 1, 1, 1, 2, 2, 2, 1, 2])"
      ]
     },
     "execution_count": 18,
     "metadata": {},
     "output_type": "execute_result"
    }
   ],
   "source": [
    "#Guardo en una variable las predicciones del clasificador\n",
    "\n",
    "y_pred = knn.predict(X_test)\n",
    "y_pred"
   ]
  },
  {
   "cell_type": "markdown",
   "metadata": {},
   "source": [
    "### A continuacion realizo la mismas operatoria pero utilizando como algoritmo kd_tree"
   ]
  },
  {
   "cell_type": "code",
   "execution_count": 19,
   "metadata": {},
   "outputs": [],
   "source": [
    "#Instancio el clasificador. Como hiperparametro selecciono la cantidad de vecinos igual a 1 y el algoritmo kd_tree\n",
    "\n",
    "knn_tree = KNeighborsClassifier(n_neighbors=1,algorithm=\"kd_tree\")"
   ]
  },
  {
   "cell_type": "code",
   "execution_count": 20,
   "metadata": {},
   "outputs": [
    {
     "data": {
      "text/plain": [
       "KNeighborsClassifier(algorithm='kd_tree', n_neighbors=1)"
      ]
     },
     "execution_count": 20,
     "metadata": {},
     "output_type": "execute_result"
    }
   ],
   "source": [
    "#Realizo el entrenamiento del clasificador\n",
    "\n",
    "knn_tree.fit(X_train, y_train)"
   ]
  },
  {
   "cell_type": "code",
   "execution_count": 21,
   "metadata": {},
   "outputs": [
    {
     "name": "stdout",
     "output_type": "stream",
     "text": [
      "accuracy:  0.9473684210526315\n"
     ]
    }
   ],
   "source": [
    "#Con el clasificador ya entreanado puedo calcular el score para los datos de test\n",
    "\n",
    "print(\"accuracy: \", knn_tree.score(X_test, y_test))"
   ]
  },
  {
   "cell_type": "markdown",
   "metadata": {},
   "source": [
    "Se observa que se obtiene el mismo resultado. Puede ser que esto se deba a que en el primer caso la seleccion del algoritmo es automatica y puede ser que se seleccione kd_tree para este caso particular"
   ]
  },
  {
   "cell_type": "markdown",
   "metadata": {},
   "source": [
    "## 3. Dataset de train, testing y test"
   ]
  },
  {
   "cell_type": "markdown",
   "metadata": {},
   "source": [
    "## 3.1 Primera aproximacion"
   ]
  },
  {
   "cell_type": "code",
   "execution_count": 34,
   "metadata": {},
   "outputs": [],
   "source": [
    "X = data.data #Features\n",
    "y = data.target #Target"
   ]
  },
  {
   "cell_type": "code",
   "execution_count": 35,
   "metadata": {},
   "outputs": [],
   "source": [
    "#Realizo una primera division de los datos\n",
    "\n",
    "X_trainval, X_test, y_trainval, y_test = train_test_split(X, y)"
   ]
  },
  {
   "cell_type": "code",
   "execution_count": 36,
   "metadata": {},
   "outputs": [],
   "source": [
    "#Para el dataset X_trainval realiza una nueva division de forma tal de tener el dataset en train y testing\n",
    "\n",
    "X_train, X_val, y_train, y_val = train_test_split(X_trainval, y_trainval)"
   ]
  },
  {
   "cell_type": "markdown",
   "metadata": {},
   "source": [
    "Llegado este momento tengo los siguientes datasets:\n",
    "\n",
    "    X_train: Features para entrenamiento\n",
    "    y_train: Target para entrenamiento\n",
    "    \n",
    "    X_val: Features para validacion\n",
    "    y_val: Target para validacion\n",
    "    \n",
    "    X_test: Features para test\n",
    "    y_test: Target para test\n",
    "    \n",
    "    \n",
    "    "
   ]
  },
  {
   "cell_type": "code",
   "execution_count": 37,
   "metadata": {},
   "outputs": [
    {
     "name": "stdout",
     "output_type": "stream",
     "text": [
      "best training score: 1.0\n",
      "best validation score: 0.964\n",
      "best n_neighbors: 3\n",
      "test-set score: 0.9736842105\n"
     ]
    }
   ],
   "source": [
    "train_scores = [] #Lista para almacenar los scores de train\n",
    "val_scores = [] #Lista para almacenar los scores de validacion\n",
    "neighbors = np.arange(1, 15, 2) #Numero de vecinos a utilizar en el entrenamiento del clasificador\n",
    "\n",
    "for i in neighbors:\n",
    "    knn = KNeighborsClassifier(n_neighbors=i)\n",
    "    knn.fit(X_train, y_train)\n",
    "    train_scores.append(knn.score(X_train, y_train))\n",
    "    val_scores.append(knn.score(X_val, y_val))\n",
    "\n",
    "print(f\"best training score: {np.max(train_scores):.3}\")\n",
    "    \n",
    "print(f\"best validation score: {np.max(val_scores):.3}\")\n",
    "\n",
    "best_n_neighbors = neighbors[np.argmax(val_scores)]\n",
    "print(\"best n_neighbors:\", best_n_neighbors)\n",
    "\n",
    "knn = KNeighborsClassifier(n_neighbors=best_n_neighbors)\n",
    "knn.fit(X_trainval, y_trainval)\n",
    "print(f\"test-set score: {knn.score(X_test, y_test):.10f}\")"
   ]
  },
  {
   "cell_type": "markdown",
   "metadata": {},
   "source": [
    "Realizo el grafico de los score para train y validacion en funcion del numero de vecinos cercanos"
   ]
  },
  {
   "cell_type": "code",
   "execution_count": 39,
   "metadata": {},
   "outputs": [
    {
     "data": {
      "text/plain": [
       "<matplotlib.legend.Legend at 0x1730f46d160>"
      ]
     },
     "execution_count": 39,
     "metadata": {},
     "output_type": "execute_result"
    },
    {
     "data": {
      "image/png": "[encoded data removed]",
      "text/plain": [
       "<Figure size 432x288 with 1 Axes>"
      ]
     },
     "metadata": {
      "needs_background": "light"
     },
     "output_type": "display_data"
    }
   ],
   "source": [
    "plt.plot(neighbors,train_scores,label=\"Train\",marker=\"o\")\n",
    "plt.plot(neighbors,val_scores,label=\"validacion\",marker=\"o\")\n",
    "\n",
    "\n",
    "plt.title(\"Score de Test y validacion\")\n",
    "plt.ylabel(\"Score\")\n",
    "plt.xlabel(\"Numero de vecinos cercanos (k)\")\n",
    "\n",
    "plt.legend()"
   ]
  },
  {
   "cell_type": "markdown",
   "metadata": {},
   "source": [
    "## 3.2 Grid-Search with Cross-Validation"
   ]
  },
  {
   "cell_type": "code",
   "execution_count": 27,
   "metadata": {},
   "outputs": [],
   "source": [
    "from sklearn.model_selection import cross_val_score"
   ]
  },
  {
   "cell_type": "code",
   "execution_count": 28,
   "metadata": {},
   "outputs": [],
   "source": [
    "X = data.data #Features\n",
    "y = data.target #Target"
   ]
  },
  {
   "cell_type": "code",
   "execution_count": 29,
   "metadata": {},
   "outputs": [],
   "source": [
    "#Realizo la division de los datos\n",
    "\n",
    "X_train, X_test, y_train, y_test = train_test_split(X, y)"
   ]
  },
  {
   "cell_type": "markdown",
   "metadata": {},
   "source": [
    "Llegado este momento tengo los siguientes datasets:\n",
    "\n",
    "    X_train: Features para entrenamiento\n",
    "    y_train: Target para entrenamiento\n",
    "\n",
    "    X_test: Features para test\n",
    "    y_test: Target para test\n",
    "    \n",
    "Como voy a utilizar Cross-Validation no es necesario generar y utilizar el dataset de validacion"
   ]
  },
  {
   "cell_type": "code",
   "execution_count": 30,
   "metadata": {},
   "outputs": [
    {
     "name": "stdout",
     "output_type": "stream",
     "text": [
      "best cross-validation score: 0.973\n",
      "best n_neighbors: 3\n",
      "test-set score: 0.974\n"
     ]
    }
   ],
   "source": [
    "cross_val_scores = [] #Lista para almacenar los scores de validacion\n",
    "\n",
    "for i in neighbors:\n",
    "    knn = KNeighborsClassifier(n_neighbors=i)\n",
    "    scores = cross_val_score(knn, X_train, y_train, cv=10)\n",
    "    cross_val_scores.append(np.mean(scores))\n",
    "print(f\"best cross-validation score: {np.max(cross_val_scores):.3}\")\n",
    "\n",
    "best_n_neighbors = neighbors[np.argmax(cross_val_scores)]\n",
    "print(f\"best n_neighbors: {best_n_neighbors}\")\n",
    "\n",
    "knn = KNeighborsClassifier(n_neighbors=best_n_neighbors)\n",
    "knn.fit(X_train, y_train)\n",
    "print(f\"test-set score: {knn.score(X_test, y_test):.3f}\")"
   ]
  },
  {
   "cell_type": "markdown",
   "metadata": {},
   "source": [
    "Realizo el grafico del score de validacion en funcion del numero de vecinos cercanos"
   ]
  },
  {
   "cell_type": "code",
   "execution_count": 31,
   "metadata": {},
   "outputs": [
    {
     "data": {
      "text/plain": [
       "<matplotlib.legend.Legend at 0x1730f38cdc0>"
      ]
     },
     "execution_count": 31,
     "metadata": {},
     "output_type": "execute_result"
    },
    {
     "data": {
      "image/png": "[encoded data removed]",
      "text/plain": [
       "<Figure size 432x288 with 1 Axes>"
      ]
     },
     "metadata": {
      "needs_background": "light"
     },
     "output_type": "display_data"
    }
   ],
   "source": [
    "plt.plot(neighbors,cross_val_scores,label=\"Validacion\",marker=\"o\")\n",
    "\n",
    "\n",
    "plt.title(\"Score de validacion\")\n",
    "plt.ylabel(\"Score\")\n",
    "plt.xlabel(\"Numero de vecinos cercanos (k)\")\n",
    "\n",
    "plt.legend()"
   ]
  },
  {
   "cell_type": "markdown",
   "metadata": {},
   "source": [
    "## 3.3 GridSearchCV"
   ]
  },
  {
   "cell_type": "code",
   "execution_count": 40,
   "metadata": {},
   "outputs": [],
   "source": [
    "from sklearn.model_selection import GridSearchCV"
   ]
  },
  {
   "cell_type": "code",
   "execution_count": 41,
   "metadata": {},
   "outputs": [],
   "source": [
    "X = data.data #Features\n",
    "y = data.target #Target"
   ]
  },
  {
   "cell_type": "code",
   "execution_count": 42,
   "metadata": {},
   "outputs": [],
   "source": [
    "#Realizo la division de los datos\n",
    "\n",
    "X_train, X_test, y_train, y_test = train_test_split(X, y)"
   ]
  },
  {
   "cell_type": "markdown",
   "metadata": {},
   "source": [
    "Llegado este momento tengo los siguientes datasets:\n",
    "\n",
    "    X_train: Features para entrenamiento\n",
    "    y_train: Target para entrenamiento\n",
    "\n",
    "    X_test: Features para test\n",
    "    y_test: Target para test\n",
    "    \n",
    "Como voy a utilizar Cross-Validation no es necesario generar y utilizar el dataset de validacion"
   ]
  },
  {
   "cell_type": "code",
   "execution_count": 47,
   "metadata": {},
   "outputs": [
    {
     "name": "stdout",
     "output_type": "stream",
     "text": [
      "Fitting 10 folds for each of 15 candidates, totalling 150 fits\n"
     ]
    },
    {
     "name": "stderr",
     "output_type": "stream",
     "text": [
      "[Parallel(n_jobs=1)]: Using backend SequentialBackend with 1 concurrent workers.\n"
     ]
    },
    {
     "name": "stdout",
     "output_type": "stream",
     "text": [
      "best mean cross-validation score: 0.9818181818181818\n",
      "best parameters: {'n_neighbors': 3}\n",
      "test-set score: 0.947\n"
     ]
    },
    {
     "name": "stderr",
     "output_type": "stream",
     "text": [
      "[Parallel(n_jobs=1)]: Done 150 out of 150 | elapsed:    1.3s finished\n"
     ]
    }
   ],
   "source": [
    "param_grid = {'n_neighbors':  np.arange(1, 30, 2)} #Defino la grilla de parametros a explorar. En este caso solo la cantidad de vecinos mas cercanos\n",
    "\n",
    "\n",
    "# Instancio GridSearchCV con el clasificador, los parametros, la cantidad de folds para cross validation\n",
    "grid = GridSearchCV(KNeighborsClassifier(), param_grid=param_grid, cv=10,return_train_score=True,verbose=1)\n",
    "\n",
    "#Realizo el fit\n",
    "grid.fit(X_train, y_train)\n",
    "\n",
    "print(f\"best mean cross-validation score: {grid.best_score_}\")\n",
    "print(f\"best parameters: {grid.best_params_}\")\n",
    "print(f\"test-set score: {grid.score(X_test, y_test):.3f}\")"
   ]
  },
  {
   "cell_type": "code",
   "execution_count": 50,
   "metadata": {},
   "outputs": [
    {
     "data": {
      "text/html": [
       "<div>\n",
       "<style scoped>\n",
       "    .dataframe tbody tr th:only-of-type {\n",
       "        vertical-align: middle;\n",
       "    }\n",
       "\n",
       "    .dataframe tbody tr th {\n",
       "        vertical-align: top;\n",
       "    }\n",
       "\n",
       "    .dataframe thead th {\n",
       "        text-align: right;\n",
       "    }\n",
       "</style>\n",
       "<table border=\"1\" class=\"dataframe\">\n",
       "  <thead>\n",
       "    <tr style=\"text-align: right;\">\n",
       "      <th></th>\n",
       "      <th>mean_fit_time</th>\n",
       "      <th>std_fit_time</th>\n",
       "      <th>mean_score_time</th>\n",
       "      <th>std_score_time</th>\n",
       "      <th>param_n_neighbors</th>\n",
       "      <th>params</th>\n",
       "      <th>split0_test_score</th>\n",
       "      <th>split1_test_score</th>\n",
       "      <th>split2_test_score</th>\n",
       "      <th>split3_test_score</th>\n",
       "      <th>...</th>\n",
       "      <th>split2_train_score</th>\n",
       "      <th>split3_train_score</th>\n",
       "      <th>split4_train_score</th>\n",
       "      <th>split5_train_score</th>\n",
       "      <th>split6_train_score</th>\n",
       "      <th>split7_train_score</th>\n",
       "      <th>split8_train_score</th>\n",
       "      <th>split9_train_score</th>\n",
       "      <th>mean_train_score</th>\n",
       "      <th>std_train_score</th>\n",
       "    </tr>\n",
       "  </thead>\n",
       "  <tbody>\n",
       "    <tr>\n",
       "      <th>0</th>\n",
       "      <td>0.000999</td>\n",
       "      <td>0.000447</td>\n",
       "      <td>0.002499</td>\n",
       "      <td>0.000922</td>\n",
       "      <td>1</td>\n",
       "      <td>{'n_neighbors': 1}</td>\n",
       "      <td>1.0</td>\n",
       "      <td>1.000000</td>\n",
       "      <td>1.000000</td>\n",
       "      <td>0.909091</td>\n",
       "      <td>...</td>\n",
       "      <td>1.000000</td>\n",
       "      <td>1.000000</td>\n",
       "      <td>1.000000</td>\n",
       "      <td>1.000000</td>\n",
       "      <td>1.000000</td>\n",
       "      <td>1.000000</td>\n",
       "      <td>1.000000</td>\n",
       "      <td>1.000000</td>\n",
       "      <td>1.000000</td>\n",
       "      <td>0.000000</td>\n",
       "    </tr>\n",
       "    <tr>\n",
       "      <th>1</th>\n",
       "      <td>0.000000</td>\n",
       "      <td>0.000000</td>\n",
       "      <td>0.000200</td>\n",
       "      <td>0.000600</td>\n",
       "      <td>3</td>\n",
       "      <td>{'n_neighbors': 3}</td>\n",
       "      <td>1.0</td>\n",
       "      <td>1.000000</td>\n",
       "      <td>1.000000</td>\n",
       "      <td>1.000000</td>\n",
       "      <td>...</td>\n",
       "      <td>0.980198</td>\n",
       "      <td>0.980198</td>\n",
       "      <td>0.990099</td>\n",
       "      <td>0.980198</td>\n",
       "      <td>0.990099</td>\n",
       "      <td>0.980198</td>\n",
       "      <td>0.980198</td>\n",
       "      <td>0.980198</td>\n",
       "      <td>0.982139</td>\n",
       "      <td>0.003981</td>\n",
       "    </tr>\n",
       "    <tr>\n",
       "      <th>2</th>\n",
       "      <td>0.000500</td>\n",
       "      <td>0.000671</td>\n",
       "      <td>0.001599</td>\n",
       "      <td>0.001427</td>\n",
       "      <td>5</td>\n",
       "      <td>{'n_neighbors': 5}</td>\n",
       "      <td>1.0</td>\n",
       "      <td>1.000000</td>\n",
       "      <td>1.000000</td>\n",
       "      <td>1.000000</td>\n",
       "      <td>...</td>\n",
       "      <td>0.990099</td>\n",
       "      <td>0.980198</td>\n",
       "      <td>0.990099</td>\n",
       "      <td>0.980198</td>\n",
       "      <td>0.990099</td>\n",
       "      <td>0.980198</td>\n",
       "      <td>0.980198</td>\n",
       "      <td>0.980198</td>\n",
       "      <td>0.983129</td>\n",
       "      <td>0.004564</td>\n",
       "    </tr>\n",
       "    <tr>\n",
       "      <th>3</th>\n",
       "      <td>0.000100</td>\n",
       "      <td>0.000300</td>\n",
       "      <td>0.001762</td>\n",
       "      <td>0.004659</td>\n",
       "      <td>7</td>\n",
       "      <td>{'n_neighbors': 7}</td>\n",
       "      <td>1.0</td>\n",
       "      <td>1.000000</td>\n",
       "      <td>1.000000</td>\n",
       "      <td>1.000000</td>\n",
       "      <td>...</td>\n",
       "      <td>0.980198</td>\n",
       "      <td>0.980198</td>\n",
       "      <td>0.990099</td>\n",
       "      <td>0.990099</td>\n",
       "      <td>0.990099</td>\n",
       "      <td>0.980198</td>\n",
       "      <td>0.980198</td>\n",
       "      <td>0.980198</td>\n",
       "      <td>0.984129</td>\n",
       "      <td>0.004855</td>\n",
       "    </tr>\n",
       "    <tr>\n",
       "      <th>4</th>\n",
       "      <td>0.002362</td>\n",
       "      <td>0.004431</td>\n",
       "      <td>0.001330</td>\n",
       "      <td>0.000447</td>\n",
       "      <td>9</td>\n",
       "      <td>{'n_neighbors': 9}</td>\n",
       "      <td>1.0</td>\n",
       "      <td>1.000000</td>\n",
       "      <td>1.000000</td>\n",
       "      <td>1.000000</td>\n",
       "      <td>...</td>\n",
       "      <td>0.990099</td>\n",
       "      <td>0.980198</td>\n",
       "      <td>0.990099</td>\n",
       "      <td>0.990099</td>\n",
       "      <td>1.000000</td>\n",
       "      <td>0.990099</td>\n",
       "      <td>0.980198</td>\n",
       "      <td>0.980198</td>\n",
       "      <td>0.988099</td>\n",
       "      <td>0.005934</td>\n",
       "    </tr>\n",
       "    <tr>\n",
       "      <th>5</th>\n",
       "      <td>0.000801</td>\n",
       "      <td>0.000401</td>\n",
       "      <td>0.001397</td>\n",
       "      <td>0.000490</td>\n",
       "      <td>11</td>\n",
       "      <td>{'n_neighbors': 11}</td>\n",
       "      <td>1.0</td>\n",
       "      <td>1.000000</td>\n",
       "      <td>1.000000</td>\n",
       "      <td>1.000000</td>\n",
       "      <td>...</td>\n",
       "      <td>0.990099</td>\n",
       "      <td>0.980198</td>\n",
       "      <td>0.990099</td>\n",
       "      <td>0.980198</td>\n",
       "      <td>1.000000</td>\n",
       "      <td>0.990099</td>\n",
       "      <td>0.980198</td>\n",
       "      <td>0.980198</td>\n",
       "      <td>0.987109</td>\n",
       "      <td>0.006331</td>\n",
       "    </tr>\n",
       "    <tr>\n",
       "      <th>6</th>\n",
       "      <td>0.000600</td>\n",
       "      <td>0.000490</td>\n",
       "      <td>0.001499</td>\n",
       "      <td>0.000500</td>\n",
       "      <td>13</td>\n",
       "      <td>{'n_neighbors': 13}</td>\n",
       "      <td>1.0</td>\n",
       "      <td>1.000000</td>\n",
       "      <td>1.000000</td>\n",
       "      <td>1.000000</td>\n",
       "      <td>...</td>\n",
       "      <td>0.990099</td>\n",
       "      <td>0.980198</td>\n",
       "      <td>0.990099</td>\n",
       "      <td>0.980198</td>\n",
       "      <td>0.990099</td>\n",
       "      <td>0.980198</td>\n",
       "      <td>0.980198</td>\n",
       "      <td>0.980198</td>\n",
       "      <td>0.985129</td>\n",
       "      <td>0.004931</td>\n",
       "    </tr>\n",
       "    <tr>\n",
       "      <th>7</th>\n",
       "      <td>0.000600</td>\n",
       "      <td>0.000490</td>\n",
       "      <td>0.001499</td>\n",
       "      <td>0.000500</td>\n",
       "      <td>15</td>\n",
       "      <td>{'n_neighbors': 15}</td>\n",
       "      <td>1.0</td>\n",
       "      <td>1.000000</td>\n",
       "      <td>1.000000</td>\n",
       "      <td>1.000000</td>\n",
       "      <td>...</td>\n",
       "      <td>0.990099</td>\n",
       "      <td>0.980198</td>\n",
       "      <td>0.990099</td>\n",
       "      <td>0.980198</td>\n",
       "      <td>0.990099</td>\n",
       "      <td>0.980198</td>\n",
       "      <td>0.980198</td>\n",
       "      <td>0.980198</td>\n",
       "      <td>0.984129</td>\n",
       "      <td>0.004855</td>\n",
       "    </tr>\n",
       "    <tr>\n",
       "      <th>8</th>\n",
       "      <td>0.000600</td>\n",
       "      <td>0.000490</td>\n",
       "      <td>0.001499</td>\n",
       "      <td>0.000500</td>\n",
       "      <td>17</td>\n",
       "      <td>{'n_neighbors': 17}</td>\n",
       "      <td>1.0</td>\n",
       "      <td>1.000000</td>\n",
       "      <td>1.000000</td>\n",
       "      <td>1.000000</td>\n",
       "      <td>...</td>\n",
       "      <td>0.990099</td>\n",
       "      <td>0.970297</td>\n",
       "      <td>0.990099</td>\n",
       "      <td>0.980198</td>\n",
       "      <td>0.990099</td>\n",
       "      <td>0.980198</td>\n",
       "      <td>0.980198</td>\n",
       "      <td>0.980198</td>\n",
       "      <td>0.983139</td>\n",
       "      <td>0.006338</td>\n",
       "    </tr>\n",
       "    <tr>\n",
       "      <th>9</th>\n",
       "      <td>0.000800</td>\n",
       "      <td>0.000748</td>\n",
       "      <td>0.002299</td>\n",
       "      <td>0.000781</td>\n",
       "      <td>19</td>\n",
       "      <td>{'n_neighbors': 19}</td>\n",
       "      <td>1.0</td>\n",
       "      <td>0.916667</td>\n",
       "      <td>1.000000</td>\n",
       "      <td>1.000000</td>\n",
       "      <td>...</td>\n",
       "      <td>0.990099</td>\n",
       "      <td>0.970297</td>\n",
       "      <td>0.990099</td>\n",
       "      <td>0.980198</td>\n",
       "      <td>0.990099</td>\n",
       "      <td>0.990099</td>\n",
       "      <td>0.980198</td>\n",
       "      <td>0.980198</td>\n",
       "      <td>0.984129</td>\n",
       "      <td>0.006571</td>\n",
       "    </tr>\n",
       "    <tr>\n",
       "      <th>10</th>\n",
       "      <td>0.000600</td>\n",
       "      <td>0.000490</td>\n",
       "      <td>0.001499</td>\n",
       "      <td>0.000500</td>\n",
       "      <td>21</td>\n",
       "      <td>{'n_neighbors': 21}</td>\n",
       "      <td>1.0</td>\n",
       "      <td>1.000000</td>\n",
       "      <td>0.909091</td>\n",
       "      <td>1.000000</td>\n",
       "      <td>...</td>\n",
       "      <td>0.990099</td>\n",
       "      <td>0.970297</td>\n",
       "      <td>0.990099</td>\n",
       "      <td>0.990099</td>\n",
       "      <td>0.980198</td>\n",
       "      <td>0.980198</td>\n",
       "      <td>0.980198</td>\n",
       "      <td>0.980198</td>\n",
       "      <td>0.981139</td>\n",
       "      <td>0.006981</td>\n",
       "    </tr>\n",
       "    <tr>\n",
       "      <th>11</th>\n",
       "      <td>0.000700</td>\n",
       "      <td>0.000458</td>\n",
       "      <td>0.001504</td>\n",
       "      <td>0.000803</td>\n",
       "      <td>23</td>\n",
       "      <td>{'n_neighbors': 23}</td>\n",
       "      <td>1.0</td>\n",
       "      <td>0.916667</td>\n",
       "      <td>0.909091</td>\n",
       "      <td>1.000000</td>\n",
       "      <td>...</td>\n",
       "      <td>0.980198</td>\n",
       "      <td>0.960396</td>\n",
       "      <td>0.990099</td>\n",
       "      <td>0.980198</td>\n",
       "      <td>0.980198</td>\n",
       "      <td>0.980198</td>\n",
       "      <td>0.970297</td>\n",
       "      <td>0.970297</td>\n",
       "      <td>0.974188</td>\n",
       "      <td>0.009149</td>\n",
       "    </tr>\n",
       "    <tr>\n",
       "      <th>12</th>\n",
       "      <td>0.001563</td>\n",
       "      <td>0.004688</td>\n",
       "      <td>0.000000</td>\n",
       "      <td>0.000000</td>\n",
       "      <td>25</td>\n",
       "      <td>{'n_neighbors': 25}</td>\n",
       "      <td>1.0</td>\n",
       "      <td>0.916667</td>\n",
       "      <td>0.909091</td>\n",
       "      <td>1.000000</td>\n",
       "      <td>...</td>\n",
       "      <td>0.950495</td>\n",
       "      <td>0.960396</td>\n",
       "      <td>0.980198</td>\n",
       "      <td>0.960396</td>\n",
       "      <td>0.970297</td>\n",
       "      <td>0.980198</td>\n",
       "      <td>0.960396</td>\n",
       "      <td>0.960396</td>\n",
       "      <td>0.965277</td>\n",
       "      <td>0.011110</td>\n",
       "    </tr>\n",
       "    <tr>\n",
       "      <th>13</th>\n",
       "      <td>0.000100</td>\n",
       "      <td>0.000300</td>\n",
       "      <td>0.001917</td>\n",
       "      <td>0.004795</td>\n",
       "      <td>27</td>\n",
       "      <td>{'n_neighbors': 27}</td>\n",
       "      <td>1.0</td>\n",
       "      <td>0.833333</td>\n",
       "      <td>0.909091</td>\n",
       "      <td>0.909091</td>\n",
       "      <td>...</td>\n",
       "      <td>0.960396</td>\n",
       "      <td>0.940594</td>\n",
       "      <td>0.980198</td>\n",
       "      <td>0.960396</td>\n",
       "      <td>0.970297</td>\n",
       "      <td>0.960396</td>\n",
       "      <td>0.960396</td>\n",
       "      <td>0.970297</td>\n",
       "      <td>0.960297</td>\n",
       "      <td>0.010938</td>\n",
       "    </tr>\n",
       "    <tr>\n",
       "      <th>14</th>\n",
       "      <td>0.000204</td>\n",
       "      <td>0.000409</td>\n",
       "      <td>0.000300</td>\n",
       "      <td>0.000639</td>\n",
       "      <td>29</td>\n",
       "      <td>{'n_neighbors': 29}</td>\n",
       "      <td>1.0</td>\n",
       "      <td>0.916667</td>\n",
       "      <td>0.909091</td>\n",
       "      <td>0.909091</td>\n",
       "      <td>...</td>\n",
       "      <td>0.960396</td>\n",
       "      <td>0.960396</td>\n",
       "      <td>0.950495</td>\n",
       "      <td>0.950495</td>\n",
       "      <td>0.960396</td>\n",
       "      <td>0.970297</td>\n",
       "      <td>0.950495</td>\n",
       "      <td>0.970297</td>\n",
       "      <td>0.957327</td>\n",
       "      <td>0.009012</td>\n",
       "    </tr>\n",
       "  </tbody>\n",
       "</table>\n",
       "<p>15 rows × 31 columns</p>\n",
       "</div>"
      ],
      "text/plain": [
       "    mean_fit_time  std_fit_time  mean_score_time  std_score_time  \\\n",
       "0        0.000999      0.000447         0.002499        0.000922   \n",
       "1        0.000000      0.000000         0.000200        0.000600   \n",
       "2        0.000500      0.000671         0.001599        0.001427   \n",
       "3        0.000100      0.000300         0.001762        0.004659   \n",
       "4        0.002362      0.004431         0.001330        0.000447   \n",
       "5        0.000801      0.000401         0.001397        0.000490   \n",
       "6        0.000600      0.000490         0.001499        0.000500   \n",
       "7        0.000600      0.000490         0.001499        0.000500   \n",
       "8        0.000600      0.000490         0.001499        0.000500   \n",
       "9        0.000800      0.000748         0.002299        0.000781   \n",
       "10       0.000600      0.000490         0.001499        0.000500   \n",
       "11       0.000700      0.000458         0.001504        0.000803   \n",
       "12       0.001563      0.004688         0.000000        0.000000   \n",
       "13       0.000100      0.000300         0.001917        0.004795   \n",
       "14       0.000204      0.000409         0.000300        0.000639   \n",
       "\n",
       "   param_n_neighbors               params  split0_test_score  \\\n",
       "0                  1   {'n_neighbors': 1}                1.0   \n",
       "1                  3   {'n_neighbors': 3}                1.0   \n",
       "2                  5   {'n_neighbors': 5}                1.0   \n",
       "3                  7   {'n_neighbors': 7}                1.0   \n",
       "4                  9   {'n_neighbors': 9}                1.0   \n",
       "5                 11  {'n_neighbors': 11}                1.0   \n",
       "6                 13  {'n_neighbors': 13}                1.0   \n",
       "7                 15  {'n_neighbors': 15}                1.0   \n",
       "8                 17  {'n_neighbors': 17}                1.0   \n",
       "9                 19  {'n_neighbors': 19}                1.0   \n",
       "10                21  {'n_neighbors': 21}                1.0   \n",
       "11                23  {'n_neighbors': 23}                1.0   \n",
       "12                25  {'n_neighbors': 25}                1.0   \n",
       "13                27  {'n_neighbors': 27}                1.0   \n",
       "14                29  {'n_neighbors': 29}                1.0   \n",
       "\n",
       "    split1_test_score  split2_test_score  split3_test_score  ...  \\\n",
       "0            1.000000           1.000000           0.909091  ...   \n",
       "1            1.000000           1.000000           1.000000  ...   \n",
       "2            1.000000           1.000000           1.000000  ...   \n",
       "3            1.000000           1.000000           1.000000  ...   \n",
       "4            1.000000           1.000000           1.000000  ...   \n",
       "5            1.000000           1.000000           1.000000  ...   \n",
       "6            1.000000           1.000000           1.000000  ...   \n",
       "7            1.000000           1.000000           1.000000  ...   \n",
       "8            1.000000           1.000000           1.000000  ...   \n",
       "9            0.916667           1.000000           1.000000  ...   \n",
       "10           1.000000           0.909091           1.000000  ...   \n",
       "11           0.916667           0.909091           1.000000  ...   \n",
       "12           0.916667           0.909091           1.000000  ...   \n",
       "13           0.833333           0.909091           0.909091  ...   \n",
       "14           0.916667           0.909091           0.909091  ...   \n",
       "\n",
       "    split2_train_score  split3_train_score  split4_train_score  \\\n",
       "0             1.000000            1.000000            1.000000   \n",
       "1             0.980198            0.980198            0.990099   \n",
       "2             0.990099            0.980198            0.990099   \n",
       "3             0.980198            0.980198            0.990099   \n",
       "4             0.990099            0.980198            0.990099   \n",
       "5             0.990099            0.980198            0.990099   \n",
       "6             0.990099            0.980198            0.990099   \n",
       "7             0.990099            0.980198            0.990099   \n",
       "8             0.990099            0.970297            0.990099   \n",
       "9             0.990099            0.970297            0.990099   \n",
       "10            0.990099            0.970297            0.990099   \n",
       "11            0.980198            0.960396            0.990099   \n",
       "12            0.950495            0.960396            0.980198   \n",
       "13            0.960396            0.940594            0.980198   \n",
       "14            0.960396            0.960396            0.950495   \n",
       "\n",
       "    split5_train_score  split6_train_score  split7_train_score  \\\n",
       "0             1.000000            1.000000            1.000000   \n",
       "1             0.980198            0.990099            0.980198   \n",
       "2             0.980198            0.990099            0.980198   \n",
       "3             0.990099            0.990099            0.980198   \n",
       "4             0.990099            1.000000            0.990099   \n",
       "5             0.980198            1.000000            0.990099   \n",
       "6             0.980198            0.990099            0.980198   \n",
       "7             0.980198            0.990099            0.980198   \n",
       "8             0.980198            0.990099            0.980198   \n",
       "9             0.980198            0.990099            0.990099   \n",
       "10            0.990099            0.980198            0.980198   \n",
       "11            0.980198            0.980198            0.980198   \n",
       "12            0.960396            0.970297            0.980198   \n",
       "13            0.960396            0.970297            0.960396   \n",
       "14            0.950495            0.960396            0.970297   \n",
       "\n",
       "    split8_train_score  split9_train_score  mean_train_score  std_train_score  \n",
       "0             1.000000            1.000000          1.000000         0.000000  \n",
       "1             0.980198            0.980198          0.982139         0.003981  \n",
       "2             0.980198            0.980198          0.983129         0.004564  \n",
       "3             0.980198            0.980198          0.984129         0.004855  \n",
       "4             0.980198            0.980198          0.988099         0.005934  \n",
       "5             0.980198            0.980198          0.987109         0.006331  \n",
       "6             0.980198            0.980198          0.985129         0.004931  \n",
       "7             0.980198            0.980198          0.984129         0.004855  \n",
       "8             0.980198            0.980198          0.983139         0.006338  \n",
       "9             0.980198            0.980198          0.984129         0.006571  \n",
       "10            0.980198            0.980198          0.981139         0.006981  \n",
       "11            0.970297            0.970297          0.974188         0.009149  \n",
       "12            0.960396            0.960396          0.965277         0.011110  \n",
       "13            0.960396            0.970297          0.960297         0.010938  \n",
       "14            0.950495            0.970297          0.957327         0.009012  \n",
       "\n",
       "[15 rows x 31 columns]"
      ]
     },
     "execution_count": 50,
     "metadata": {},
     "output_type": "execute_result"
    }
   ],
   "source": [
    "#Puedo cargar en un dataframe los resultados obtenidos en cada secuencia\n",
    "\n",
    "results = pd.DataFrame(grid.cv_results_)\n",
    "results"
   ]
  },
  {
   "cell_type": "markdown",
   "metadata": {},
   "source": [
    "Realizo el grafico de mean_train_score de los datos obtenidos anteriormente"
   ]
  },
  {
   "cell_type": "code",
   "execution_count": 52,
   "metadata": {},
   "outputs": [
    {
     "data": {
      "text/plain": [
       "<matplotlib.legend.Legend at 0x1730f7ca310>"
      ]
     },
     "execution_count": 52,
     "metadata": {},
     "output_type": "execute_result"
    },
    {
     "data": {
      "image/png": "[encoded data removed]",
      "text/plain": [
       "<Figure size 432x288 with 1 Axes>"
      ]
     },
     "metadata": {
      "needs_background": "light"
     },
     "output_type": "display_data"
    }
   ],
   "source": [
    "mean_train_score = results[\"mean_train_score\"]\n",
    "x = np.arange(1, 30, 2)\n",
    "\n",
    "plt.plot(x,mean_train_score,label=\"mean_train_score\",marker=\"o\")\n",
    "\n",
    "\n",
    "plt.title(\"mean_train_score\")\n",
    "plt.ylabel(\"Score\")\n",
    "plt.xlabel(\"Numero de vecinos cercanos (k)\")\n",
    "\n",
    "plt.legend()"
   ]
  },
  {
   "cell_type": "markdown",
   "metadata": {},
   "source": [
    "## Using Cross-Validation Generators"
   ]
  },
  {
   "cell_type": "code",
   "execution_count": 53,
   "metadata": {},
   "outputs": [],
   "source": [
    "from sklearn.model_selection import KFold, StratifiedKFold, ShuffleSplit, RepeatedStratifiedKFold"
   ]
  },
  {
   "cell_type": "code",
   "execution_count": 54,
   "metadata": {},
   "outputs": [],
   "source": [
    "X = data.data #Features\n",
    "y = data.target #Target"
   ]
  },
  {
   "cell_type": "code",
   "execution_count": 55,
   "metadata": {},
   "outputs": [],
   "source": [
    "#Realizo la division de los datos\n",
    "\n",
    "X_train, X_test, y_train, y_test = train_test_split(X, y)"
   ]
  },
  {
   "cell_type": "markdown",
   "metadata": {},
   "source": [
    "Llegado este momento tengo los siguientes datasets:\n",
    "\n",
    "    X_train: Features para entrenamiento\n",
    "    y_train: Target para entrenamiento\n",
    "\n",
    "    X_test: Features para test\n",
    "    y_test: Target para test\n",
    "    \n",
    "Como voy a utilizar Cross-Validation no es necesario generar y utilizar el dataset de validacion"
   ]
  },
  {
   "cell_type": "code",
   "execution_count": 56,
   "metadata": {},
   "outputs": [],
   "source": [
    "#Instancio los generadores\n",
    "\n",
    "#kfold\n",
    "kfold = KFold(n_splits=5 \n",
    "\n",
    "#Kfold estratificado              \n",
    "skfold = StratifiedKFold(n_splits=5, shuffle=True)\n",
    "\n",
    "# Shuffle & Split\n",
    "ss = ShuffleSplit(n_splits=20, train_size=.4, test_size=.3)\n",
    "\n",
    "#Repeated Stratified KFold\n",
    "rs = RepeatedStratifiedKFold(n_splits=5, n_repeats=10)"
   ]
  },
  {
   "cell_type": "code",
   "execution_count": 58,
   "metadata": {},
   "outputs": [
    {
     "name": "stdout",
     "output_type": "stream",
     "text": [
      "KFold:\n",
      "[1.         1.         0.83333333 0.93333333 0.8       ]\n",
      "StratifiedKFold:\n",
      "[0.96666667 0.96666667 0.96666667 0.96666667 0.96666667]\n",
      "ShuffleSplit:\n",
      "[0.97777778 0.93333333 0.97777778 1.         0.95555556 1.\n",
      " 0.97777778 0.95555556 0.97777778 0.93333333 0.95555556 0.93333333\n",
      " 0.95555556 0.97777778 0.93333333 0.97777778 0.97777778 0.95555556\n",
      " 0.97777778 0.93333333]\n",
      "RepeatedStratifiedKFold:\n",
      "[0.9        1.         0.93333333 1.         0.96666667 0.96666667\n",
      " 0.96666667 1.         1.         0.93333333 0.96666667 0.96666667\n",
      " 1.         0.93333333 0.96666667 1.         0.93333333 0.96666667\n",
      " 0.96666667 0.96666667 0.96666667 1.         0.9        0.96666667\n",
      " 1.         1.         0.96666667 1.         1.         0.93333333\n",
      " 1.         1.         1.         0.93333333 0.96666667 0.96666667\n",
      " 0.96666667 0.96666667 0.96666667 0.96666667 1.         0.96666667\n",
      " 0.93333333 0.93333333 0.96666667 0.93333333 0.96666667 0.96666667\n",
      " 0.96666667 0.96666667]\n"
     ]
    }
   ],
   "source": [
    "print(\"KFold:\")\n",
    "kfold_values = cross_val_score(KNeighborsClassifier(), X, y, cv=kfold)\n",
    "print(kfold_values)\n",
    "\n",
    "print(\"StratifiedKFold:\")\n",
    "skfold_values = cross_val_score(KNeighborsClassifier(), X, y, cv=skfold)\n",
    "print(skfold_values)\n",
    "\n",
    "print(\"ShuffleSplit:\")\n",
    "shuffle_split_values = cross_val_score(KNeighborsClassifier(), X, y, cv=ss)\n",
    "print(shuffle_split_values)\n",
    "\n",
    "print(\"RepeatedStratifiedKFold:\")\n",
    "repeated_stratified_kFold_values= cross_val_score(KNeighborsClassifier(), X, y, cv=rs)\n",
    "print(repeated_stratified_kFold_values)"
   ]
  },
  {
   "cell_type": "code",
   "execution_count": 69,
   "metadata": {},
   "outputs": [
    {
     "data": {
      "text/plain": [
       "<matplotlib.legend.Legend at 0x1730fa885e0>"
      ]
     },
     "execution_count": 69,
     "metadata": {},
     "output_type": "execute_result"
    },
    {
     "data": {
      "image/png": "[encoded data removed]",
      "text/plain": [
       "<Figure size 432x288 with 1 Axes>"
      ]
     },
     "metadata": {
      "needs_background": "light"
     },
     "output_type": "display_data"
    }
   ],
   "source": [
    "plt.plot(np.arange(1,len(kfold_values)+1),kfold_values,label=\"kfold\",marker=\"o\")\n",
    "plt.plot(np.arange(1,len(skfold_values)+1),skfold_values,label=\"StratifiedKFold\",marker=\"o\")\n",
    "\n",
    "plt.title(\"Cross Val Scrore\")\n",
    "plt.ylabel(\"Score\")\n",
    "plt.xlabel(\"N° fold\")\n",
    "\n",
    "plt.legend()"
   ]
  },
  {
   "cell_type": "code",
   "execution_count": 71,
   "metadata": {},
   "outputs": [
    {
     "data": {
      "text/plain": [
       "<matplotlib.legend.Legend at 0x1730fb60b80>"
      ]
     },
     "execution_count": 71,
     "metadata": {},
     "output_type": "execute_result"
    },
    {
     "data": {
      "image/png": "[encoded data removed]",
      "text/plain": [
       "<Figure size 432x288 with 1 Axes>"
      ]
     },
     "metadata": {
      "needs_background": "light"
     },
     "output_type": "display_data"
    }
   ],
   "source": [
    "plt.plot(np.arange(1,len(repeated_stratified_kFold_values)+1),repeated_stratified_kFold_values,label=\"RepeatedStratifiedKFold\",marker=\"o\")\n",
    "\n",
    "plt.title(\"Cross Val Scrore\")\n",
    "plt.ylabel(\"Score\")\n",
    "plt.xlabel(\"N° fold\")\n",
    "\n",
    "plt.legend()"
   ]
  },
  {
   "cell_type": "code",
   "execution_count": null,
   "metadata": {},
   "outputs": [],
   "source": [
    "plt.plot(np.arange(1,len(shuffle_split_values)+1),shuffle_split_values,label=\"ShuffleSplit\",marker=\"o\")\n",
    "\n",
    "plt.title(\"Cross Val Scrore\")\n",
    "plt.ylabel(\"Score\")\n",
    "plt.xlabel(\"N° fold\")\n",
    "\n",
    "plt.legend()"
   ]
  },
  {
   "cell_type": "markdown",
   "metadata": {},
   "source": [
    "## cross_validate function"
   ]
  },
  {
   "cell_type": "code",
   "execution_count": 72,
   "metadata": {},
   "outputs": [],
   "source": [
    "from sklearn.model_selection import cross_validate"
   ]
  },
  {
   "cell_type": "code",
   "execution_count": 77,
   "metadata": {},
   "outputs": [],
   "source": [
    "X = data.data #Features\n",
    "y = data.target #Target"
   ]
  },
  {
   "cell_type": "code",
   "execution_count": 81,
   "metadata": {},
   "outputs": [],
   "source": [
    "#Realizo la division de los datos\n",
    "\n",
    "X_train, X_test, y_train, y_test = train_test_split(X, y)"
   ]
  },
  {
   "cell_type": "code",
   "execution_count": null,
   "metadata": {},
   "outputs": [],
   "source": [
    "res = cross_validate(KNeighborsClassifier(), X, y, return_train_score=True,scoring=[\"accuracy\", \"f1\"])\n",
    "res_df = pd.DataFrame(res)"
   ]
  }
 ],
 "metadata": {
  "kernelspec": {
   "display_name": "Python 3",
   "language": "python",
   "name": "python3"
  },
  "language_info": {
   "codemirror_mode": {
    "name": "ipython",
    "version": 3
   },
   "file_extension": ".py",
   "mimetype": "text/x-python",
   "name": "python",
   "nbconvert_exporter": "python",
   "pygments_lexer": "ipython3",
   "version": "3.8.3"
  }
 },
 "nbformat": 4,
 "nbformat_minor": 4
}
